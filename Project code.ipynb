import pandas as pd
import numpy as np
import os
from openpyxl.workbook import Workbook   #used to save to our Excel sheet
from openpyxl import load_workbook
